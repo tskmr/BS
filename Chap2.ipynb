{
  "nbformat": 4,
  "nbformat_minor": 0,
  "metadata": {
    "colab": {
      "provenance": [],
      "collapsed_sections": [
        "snC3Rvl0CC0r"
      ],
      "authorship_tag": "ABX9TyMfZxez/x6E+fxH4XTi1cxC",
      "include_colab_link": true
    },
    "kernelspec": {
      "name": "ir",
      "display_name": "R"
    },
    "language_info": {
      "name": "R"
    }
  },
  "cells": [
    {
      "cell_type": "markdown",
      "metadata": {
        "id": "view-in-github",
        "colab_type": "text"
      },
      "source": [
        "<a href=\"https://colab.research.google.com/github/tskmr/BS/blob/main/Chap2.ipynb\" target=\"_parent\"><img src=\"https://colab.research.google.com/assets/colab-badge.svg\" alt=\"Open In Colab\"/></a>"
      ]
    },
    {
      "cell_type": "markdown",
      "source": [
        "# 準備"
      ],
      "metadata": {
        "id": "snC3Rvl0CC0r"
      }
    },
    {
      "cell_type": "markdown",
      "source": [
        "日本語が文字化け対策．\n",
        "https://qiita.com/kota9/items/ef50061ef3d8b4b657ee によると，\n",
        "```system(\"apt-get install -y fonts-noto-cjk\")``` でフォントをインストールして，```theme_update(text=element_text(family=\"Noto Sans CJK JP\"))```とせよ，とのこと．"
      ],
      "metadata": {
        "id": "uHhnPsOA-px-"
      }
    },
    {
      "cell_type": "code",
      "source": [
        "system(\"apt-get install -y fonts-noto-cjk\")\n",
        "systemfonts::system_fonts()"
      ],
      "metadata": {
        "id": "K4PXgJ-p-3sc"
      },
      "execution_count": null,
      "outputs": []
    },
    {
      "cell_type": "markdown",
      "source": [
        "```ggplot2```のテーマをアップデートして，デフォルトで日本語フォントが使えるようにする．"
      ],
      "metadata": {
        "id": "J3FhFkBC_6_z"
      }
    },
    {
      "cell_type": "code",
      "source": [
        "theme_update(text=element_text(family=\"Noto Sans Mono CJK JP\"))"
      ],
      "metadata": {
        "id": "EH3A74Qa_6lz"
      },
      "execution_count": 26,
      "outputs": []
    },
    {
      "cell_type": "markdown",
      "source": [
        "ここで，ランタイムを再起動する．メニューから「ランタイム」->「ランタイムを再起動」を選択"
      ],
      "metadata": {
        "id": "J42wtJz2B5XF"
      }
    },
    {
      "cell_type": "markdown",
      "source": [
        "テスト"
      ],
      "metadata": {
        "id": "tRrJKEyg_s7Q"
      }
    },
    {
      "cell_type": "code",
      "source": [
        "data.frame(x=1:5, y=1:5) %>% ggplot() + geom_point(aes(x, y)) +\n",
        "  xlab(\"x軸\") + ylab(\"y軸\") + ggtitle(\"タイトル\")"
      ],
      "metadata": {
        "colab": {
          "base_uri": "https://localhost:8080/",
          "height": 437
        },
        "id": "NR1PRDjS_sea",
        "outputId": "85f27ed2-2bd7-4989-a285-8efd8ee74816"
      },
      "execution_count": 35,
      "outputs": [
        {
          "output_type": "display_data",
          "data": {
            "text/plain": [
              "plot without title"
            ],
            "image/png": "[encoded data removed]"
          },
          "metadata": {
            "image/png": {
              "width": 420,
              "height": 420
            }
          }
        }
      ]
    },
    {
      "cell_type": "markdown",
      "source": [
        "# 2. 確率モデルと最尤法"
      ],
      "metadata": {
        "id": "ypTH36893QW_"
      }
    },
    {
      "cell_type": "code",
      "execution_count": 3,
      "metadata": {
        "id": "gLpi7ABo3KhY"
      },
      "outputs": [],
      "source": [
        "library(tidyverse)"
      ]
    },
    {
      "cell_type": "markdown",
      "source": [
        "## 2.1 確率モデル"
      ],
      "metadata": {
        "id": "-AoLUJb13YGC"
      }
    },
    {
      "cell_type": "code",
      "source": [
        "rec.data <- data.frame(id = 1:10, action = c(0, 1, 0, 0, 0, 0, 1, 0, 0, 0))\n",
        "rec.data"
      ],
      "metadata": {
        "colab": {
          "base_uri": "https://localhost:8080/",
          "height": 424
        },
        "id": "0UH0kG563ZhM",
        "outputId": "ae5afe4e-a84b-4f33-fdbb-54fc18886fb9"
      },
      "execution_count": 4,
      "outputs": [
        {
          "output_type": "display_data",
          "data": {
            "text/html": [
              "<table class=\"dataframe\">\n",
              "<caption>A data.frame: 10 × 2</caption>\n",
              "<thead>\n",
              "\t<tr><th scope=col>id</th><th scope=col>action</th></tr>\n",
              "\t<tr><th scope=col>&lt;int&gt;</th><th scope=col>&lt;dbl&gt;</th></tr>\n",
              "</thead>\n",
              "<tbody>\n",
              "\t<tr><td> 1</td><td>0</td></tr>\n",
              "\t<tr><td> 2</td><td>1</td></tr>\n",
              "\t<tr><td> 3</td><td>0</td></tr>\n",
              "\t<tr><td> 4</td><td>0</td></tr>\n",
              "\t<tr><td> 5</td><td>0</td></tr>\n",
              "\t<tr><td> 6</td><td>0</td></tr>\n",
              "\t<tr><td> 7</td><td>1</td></tr>\n",
              "\t<tr><td> 8</td><td>0</td></tr>\n",
              "\t<tr><td> 9</td><td>0</td></tr>\n",
              "\t<tr><td>10</td><td>0</td></tr>\n",
              "</tbody>\n",
              "</table>\n"
            ],
            "text/markdown": "\nA data.frame: 10 × 2\n\n| id &lt;int&gt; | action &lt;dbl&gt; |\n|---|---|\n|  1 | 0 |\n|  2 | 1 |\n|  3 | 0 |\n|  4 | 0 |\n|  5 | 0 |\n|  6 | 0 |\n|  7 | 1 |\n|  8 | 0 |\n|  9 | 0 |\n| 10 | 0 |\n\n",
            "text/latex": "A data.frame: 10 × 2\n\\begin{tabular}{ll}\n id & action\\\\\n <int> & <dbl>\\\\\n\\hline\n\t  1 & 0\\\\\n\t  2 & 1\\\\\n\t  3 & 0\\\\\n\t  4 & 0\\\\\n\t  5 & 0\\\\\n\t  6 & 0\\\\\n\t  7 & 1\\\\\n\t  8 & 0\\\\\n\t  9 & 0\\\\\n\t 10 & 0\\\\\n\\end{tabular}\n",
            "text/plain": [
              "   id action\n",
              "1   1 0     \n",
              "2   2 1     \n",
              "3   3 0     \n",
              "4   4 0     \n",
              "5   5 0     \n",
              "6   6 0     \n",
              "7   7 1     \n",
              "8   8 0     \n",
              "9   9 0     \n",
              "10 10 0     "
            ]
          },
          "metadata": {}
        }
      ]
    },
    {
      "cell_type": "markdown",
      "source": [
        "## 2.2 最尤法"
      ],
      "metadata": {
        "id": "fnu_RZH93bai"
      }
    },
    {
      "cell_type": "markdown",
      "source": [
        "### 2.2.1 尤度関数"
      ],
      "metadata": {
        "id": "om41rY3W3duO"
      }
    },
    {
      "cell_type": "markdown",
      "source": [
        "$Y \\sim {\\rm Bernoulli}(q)$ の確率関数"
      ],
      "metadata": {
        "id": "SO1ZvZaT3i5L"
      }
    },
    {
      "cell_type": "code",
      "source": [
        "f = function(y, q){\n",
        "  q^y * (1-q)^(1-y)\n",
        "}"
      ],
      "metadata": {
        "id": "hbz9M0Tm3hLB"
      },
      "execution_count": 5,
      "outputs": []
    },
    {
      "cell_type": "markdown",
      "source": [
        "$Y_1, \\dots, Y_n$ の同時確率密度関数"
      ],
      "metadata": {
        "id": "ZVFORcBo3u49"
      }
    },
    {
      "cell_type": "code",
      "source": [
        "p = function(y, q){ \n",
        "  prod(f(y, q))\n",
        "}"
      ],
      "metadata": {
        "id": "vwnFT9mp3tTG"
      },
      "execution_count": 6,
      "outputs": []
    },
    {
      "cell_type": "markdown",
      "source": [
        "$q=0.3$ として計算"
      ],
      "metadata": {
        "id": "mWS03rWT308c"
      }
    },
    {
      "cell_type": "code",
      "source": [
        "f(1, 0.3) # f(1, q) = q なので，q=0.3が返ってくる"
      ],
      "metadata": {
        "colab": {
          "base_uri": "https://localhost:8080/",
          "height": 34
        },
        "id": "f-1_H0ZI3zKT",
        "outputId": "b123dc8c-79b6-46de-c121-01357ae7a72f"
      },
      "execution_count": 7,
      "outputs": [
        {
          "output_type": "display_data",
          "data": {
            "text/html": [
              "0.3"
            ],
            "text/markdown": "0.3",
            "text/latex": "0.3",
            "text/plain": [
              "[1] 0.3"
            ]
          },
          "metadata": {}
        }
      ]
    },
    {
      "cell_type": "code",
      "source": [
        "p(c(1, 1), 0.3) # f(1, q)* f(1, q) = q^2 なので，0.3^2 が返ってくる"
      ],
      "metadata": {
        "colab": {
          "base_uri": "https://localhost:8080/",
          "height": 34
        },
        "id": "m4_-1fvW4NV5",
        "outputId": "e293770e-5692-477d-a2bb-240725d7b5dc"
      },
      "execution_count": 8,
      "outputs": [
        {
          "output_type": "display_data",
          "data": {
            "text/html": [
              "0.09"
            ],
            "text/markdown": "0.09",
            "text/latex": "0.09",
            "text/plain": [
              "[1] 0.09"
            ]
          },
          "metadata": {}
        }
      ]
    },
    {
      "cell_type": "code",
      "source": [
        "p(rec.data$action, 0.3) # p.27 の結果1"
      ],
      "metadata": {
        "colab": {
          "base_uri": "https://localhost:8080/",
          "height": 34
        },
        "id": "SEDYM9Ew4Az3",
        "outputId": "4d3c1d04-962e-416f-81de-422dba3fe8de"
      },
      "execution_count": 9,
      "outputs": [
        {
          "output_type": "display_data",
          "data": {
            "text/html": [
              "0.0051883209"
            ],
            "text/markdown": "0.0051883209",
            "text/latex": "0.0051883209",
            "text/plain": [
              "[1] 0.005188321"
            ]
          },
          "metadata": {}
        }
      ]
    },
    {
      "cell_type": "markdown",
      "source": [
        "$q=0.4$ として計算"
      ],
      "metadata": {
        "id": "1WftpycD4GUb"
      }
    },
    {
      "cell_type": "code",
      "source": [
        "p(rec.data$action, 0.4) # p.27 の結果1"
      ],
      "metadata": {
        "colab": {
          "base_uri": "https://localhost:8080/",
          "height": 34
        },
        "id": "XY80wWTd4Dkp",
        "outputId": "99460eb4-ccfe-4bae-82b2-556f524179b5"
      },
      "execution_count": 10,
      "outputs": [
        {
          "output_type": "display_data",
          "data": {
            "text/html": [
              "0.0026873856"
            ],
            "text/markdown": "0.0026873856",
            "text/latex": "0.0026873856",
            "text/plain": [
              "[1] 0.002687386"
            ]
          },
          "metadata": {}
        }
      ]
    },
    {
      "cell_type": "markdown",
      "source": [
        "より分かりやすく，尤度関数を定義"
      ],
      "metadata": {
        "id": "G4jjC_ez41DI"
      }
    },
    {
      "cell_type": "code",
      "source": [
        "likelihood = function(y){\n",
        "  function(q){\n",
        "    p(y, q)\n",
        "  }\n",
        "}"
      ],
      "metadata": {
        "id": "ID-oIVjy4zlM"
      },
      "execution_count": 11,
      "outputs": []
    },
    {
      "cell_type": "markdown",
      "source": [
        "likelihood 関数にyを渡すと，```function(q){p(y,q)}``` が返ってくる．"
      ],
      "metadata": {
        "id": "upD2ido95Jpw"
      }
    },
    {
      "cell_type": "code",
      "source": [
        "L = likelihood(rec.data$action) "
      ],
      "metadata": {
        "id": "CJr2iCdy5NOO"
      },
      "execution_count": 12,
      "outputs": []
    },
    {
      "cell_type": "markdown",
      "source": [
        "試しに，p.27 の結果1"
      ],
      "metadata": {
        "id": "kqyfGqvw5OxD"
      }
    },
    {
      "cell_type": "code",
      "source": [
        "L(0.3) # Lはqの関数になっていて，L(q)で尤度が返ってくる"
      ],
      "metadata": {
        "colab": {
          "base_uri": "https://localhost:8080/",
          "height": 34
        },
        "id": "5kQgsTlD5UiB",
        "outputId": "71373f34-dead-4ac5-be8c-e756ea6ce54c"
      },
      "execution_count": 13,
      "outputs": [
        {
          "output_type": "display_data",
          "data": {
            "text/html": [
              "0.0051883209"
            ],
            "text/markdown": "0.0051883209",
            "text/latex": "0.0051883209",
            "text/plain": [
              "[1] 0.005188321"
            ]
          },
          "metadata": {}
        }
      ]
    },
    {
      "cell_type": "markdown",
      "source": [
        "p.27 の結果2"
      ],
      "metadata": {
        "id": "WlkFpKBP5dI6"
      }
    },
    {
      "cell_type": "code",
      "source": [
        "L(0.4)"
      ],
      "metadata": {
        "colab": {
          "base_uri": "https://localhost:8080/",
          "height": 34
        },
        "id": "IGCCPkyV5ZoY",
        "outputId": "57204a47-42c8-4e9f-afb8-fa4b973a4d17"
      },
      "execution_count": 14,
      "outputs": [
        {
          "output_type": "display_data",
          "data": {
            "text/html": [
              "0.0026873856"
            ],
            "text/markdown": "0.0026873856",
            "text/latex": "0.0026873856",
            "text/plain": [
              "[1] 0.002687386"
            ]
          },
          "metadata": {}
        }
      ]
    },
    {
      "cell_type": "markdown",
      "source": [
        "#### p.28 の図2.1を作成"
      ],
      "metadata": {
        "id": "p-QZ-i0W5gwp"
      }
    },
    {
      "cell_type": "markdown",
      "source": [
        "q の候補を適当に，0から1まで100個（等間隔で）作成"
      ],
      "metadata": {
        "id": "tQnJyHDF5tMy"
      }
    },
    {
      "cell_type": "code",
      "source": [
        "q = seq(0, 1, len=100) "
      ],
      "metadata": {
        "id": "l8odVxPG5i56"
      },
      "execution_count": 15,
      "outputs": []
    },
    {
      "cell_type": "markdown",
      "source": [
        "L値を入れる箱の準備"
      ],
      "metadata": {
        "id": "jh485mjs5xXs"
      }
    },
    {
      "cell_type": "code",
      "source": [
        "L.value= numeric(length(q)) # \n",
        "for(i in 1:length(q)){\n",
        "  L.value[i] = L(q[i])\n",
        "}"
      ],
      "metadata": {
        "id": "JyKoAwRS5ybt"
      },
      "execution_count": 16,
      "outputs": []
    },
    {
      "cell_type": "markdown",
      "source": [
        "プロットする．"
      ],
      "metadata": {
        "id": "tbtjPGl050AM"
      }
    },
    {
      "cell_type": "code",
      "source": [
        "data.frame(q, L.value) %>% ggplot() + geom_line(aes(q, L.value))"
      ],
      "metadata": {
        "colab": {
          "base_uri": "https://localhost:8080/",
          "height": 437
        },
        "id": "GgVs6FE451nE",
        "outputId": "465ff400-645f-4877-b4cb-93e7f2e97887"
      },
      "execution_count": 17,
      "outputs": [
        {
          "output_type": "display_data",
          "data": {
            "text/plain": [
              "plot without title"
            ],
            "image/png": "[encoded data removed]"
          },
          "metadata": {
            "image/png": {
              "width": 420,
              "height": 420
            }
          }
        }
      ]
    },
    {
      "cell_type": "markdown",
      "source": [
        "### 2.2.2 確率変数としての最尤推定量"
      ],
      "metadata": {
        "id": "q82mQLFb56_3"
      }
    },
    {
      "cell_type": "markdown",
      "source": [
        "ベルヌーイ分布の最尤推定量は$\\hat q = \\overline Y$である．先の例について，最尤推定値を求めてみよう．"
      ],
      "metadata": {
        "id": "__ajo-Qs6OB3"
      }
    },
    {
      "cell_type": "code",
      "source": [
        "y <- rec.data$action\n",
        "hat.q <- mean(y)\n",
        "hat.q"
      ],
      "metadata": {
        "colab": {
          "base_uri": "https://localhost:8080/",
          "height": 34
        },
        "id": "_BMCW2VR6KtI",
        "outputId": "c8a3a28a-233c-4651-e5f6-01c6ce6c6fbe"
      },
      "execution_count": 18,
      "outputs": [
        {
          "output_type": "display_data",
          "data": {
            "text/html": [
              "0.2"
            ],
            "text/markdown": "0.2",
            "text/latex": "0.2",
            "text/plain": [
              "[1] 0.2"
            ]
          },
          "metadata": {}
        }
      ]
    },
    {
      "cell_type": "markdown",
      "source": [
        "## 2.3 最尤法のもとでの予測分布"
      ],
      "metadata": {
        "id": "7Now1CE76qkf"
      }
    },
    {
      "cell_type": "markdown",
      "source": [
        "### 人気のないブログ"
      ],
      "metadata": {
        "id": "DeAwddvO64KR"
      }
    },
    {
      "cell_type": "markdown",
      "source": [
        "ブログへのアクセス人数を３０日間集計した結果，以下を得た．"
      ],
      "metadata": {
        "id": "g34WAmBh69BO"
      }
    },
    {
      "cell_type": "code",
      "source": [
        "xn <- c(3, 1, 3, 1, 2, 4, 4, 5, 5, 3, 1, 8, 0, 1, 0, 2, 2, 2, 5, 3, 2, 1, 3, 1, 2, 2, 5, 2, 3 ,2)"
      ],
      "metadata": {
        "id": "PJj0GRYP6uk-"
      },
      "execution_count": 19,
      "outputs": []
    },
    {
      "cell_type": "markdown",
      "source": [
        "#### p.33 の図2.2 の```histogram``` を作成してみる．"
      ],
      "metadata": {
        "id": "5vpbidKy7F4a"
      }
    },
    {
      "cell_type": "code",
      "source": [
        "data.frame(xn) %>% ggplot() + geom_histogram(aes(xn))"
      ],
      "metadata": {
        "colab": {
          "base_uri": "https://localhost:8080/",
          "height": 454
        },
        "id": "t58OmtTd7KOR",
        "outputId": "4d0f05e7-fcf7-42a7-98c7-af752a5bf8fb"
      },
      "execution_count": 38,
      "outputs": [
        {
          "output_type": "stream",
          "name": "stderr",
          "text": [
            "\u001b[1m\u001b[22m`stat_bin()` using `bins = 30`. Pick better value with `binwidth`.\n"
          ]
        },
        {
          "output_type": "display_data",
          "data": {
            "text/plain": [
              "plot without title"
            ],
            "image/png": "[encoded data removed]"
          },
          "metadata": {
            "image/png": {
              "width": 420,
              "height": 420
            }
          }
        }
      ]
    },
    {
      "cell_type": "markdown",
      "source": [
        "幅を調整．"
      ],
      "metadata": {
        "id": "6l5ZmtUi8-2z"
      }
    },
    {
      "cell_type": "code",
      "source": [
        "data.frame(xn) %>% ggplot() + geom_histogram(aes(xn), binwidth = 1)"
      ],
      "metadata": {
        "colab": {
          "base_uri": "https://localhost:8080/",
          "height": 437
        },
        "id": "Xkx3fUmg8-Sm",
        "outputId": "35e52388-2b0b-4143-e2af-a8ab1a43336a"
      },
      "execution_count": 21,
      "outputs": [
        {
          "output_type": "display_data",
          "data": {
            "text/plain": [
              "plot without title"
            ],
            "image/png": "[encoded data removed]"
          },
          "metadata": {
            "image/png": {
              "width": 420,
              "height": 420
            }
          }
        }
      ]
    },
    {
      "cell_type": "markdown",
      "source": [
        "```bin```の枠色を調整"
      ],
      "metadata": {
        "id": "DMefnDH_9eQz"
      }
    },
    {
      "cell_type": "code",
      "source": [
        "data.frame(xn) %>% ggplot() + geom_histogram(aes(xn), binwidth = 1, col=\"white\")"
      ],
      "metadata": {
        "colab": {
          "base_uri": "https://localhost:8080/",
          "height": 437
        },
        "id": "Ww3jmlry9d-P",
        "outputId": "001faa6c-abc3-43f1-dbb5-c92df6e65a42"
      },
      "execution_count": 22,
      "outputs": [
        {
          "output_type": "display_data",
          "data": {
            "text/plain": [
              "plot without title"
            ],
            "image/png": "[encoded data removed]"
          },
          "metadata": {
            "image/png": {
              "width": 420,
              "height": 420
            }
          }
        }
      ]
    },
    {
      "cell_type": "markdown",
      "source": [
        "横軸の目盛がきになるので，整数値を取るように修正．"
      ],
      "metadata": {
        "id": "RBAwdgo69xwL"
      }
    },
    {
      "cell_type": "code",
      "source": [
        "data.frame(xn) %>% ggplot() + geom_histogram(aes(xn), binwidth = 1, col=\"white\") + \n",
        "  scale_x_continuous(breaks = 0:8)"
      ],
      "metadata": {
        "colab": {
          "base_uri": "https://localhost:8080/",
          "height": 437
        },
        "id": "gw2pj1F495fy",
        "outputId": "0a3ccb83-b1d8-42e3-8403-1caaaf885a26"
      },
      "execution_count": 23,
      "outputs": [
        {
          "output_type": "display_data",
          "data": {
            "text/plain": [
              "plot without title"
            ],
            "image/png": "[encoded data removed]"
          },
          "metadata": {
            "image/png": {
              "width": 420,
              "height": 420
            }
          }
        }
      ]
    },
    {
      "cell_type": "markdown",
      "source": [
        "縦軸が度数になっているので，相対度数に書き換える．"
      ],
      "metadata": {
        "id": "vmmpv8yLDXGn"
      }
    },
    {
      "cell_type": "code",
      "source": [
        "data.frame(xn) %>% ggplot() + geom_histogram(aes(xn, ..count../sum(..count..)), binwidth = 1, col=\"white\") + \n",
        "  scale_x_continuous(breaks = 0:8)"
      ],
      "metadata": {
        "colab": {
          "base_uri": "https://localhost:8080/",
          "height": 437
        },
        "id": "9ufTpGgmDdvX",
        "outputId": "80fc964f-765a-4362-a365-0aad3346769f"
      },
      "execution_count": 39,
      "outputs": [
        {
          "output_type": "display_data",
          "data": {
            "text/plain": [
              "plot without title"
            ],
            "image/png": "[encoded data removed]"
          },
          "metadata": {
            "image/png": {
              "width": 420,
              "height": 420
            }
          }
        }
      ]
    },
    {
      "cell_type": "markdown",
      "source": [
        "最後に，タイトル「ブログのアクセス数」，横軸「アクセス人数」，縦軸「相対度数」を入れる．"
      ],
      "metadata": {
        "id": "vVUlPrSj-D0O"
      }
    },
    {
      "cell_type": "code",
      "source": [
        "data.frame(xn) %>% ggplot() + \n",
        "  geom_histogram(aes(xn, ..count../sum(..count..)), binwidth = 1, col=\"white\") + \n",
        "  scale_x_continuous(breaks = 0:8)+\n",
        "  ggtitle(\"ブログのアクセス数\") + xlab(\"アクセス人数\") + ylab(\"相対度数\")"
      ],
      "metadata": {
        "colab": {
          "base_uri": "https://localhost:8080/",
          "height": 437
        },
        "id": "ESQOG7Ww--cN",
        "outputId": "646c8857-79bf-472f-f390-127af352f724"
      },
      "execution_count": 41,
      "outputs": [
        {
          "output_type": "display_data",
          "data": {
            "text/plain": [
              "plot without title"
            ],
            "image/png": "[encoded data removed]"
          },
          "metadata": {
            "image/png": {
              "width": 420,
              "height": 420
            }
          }
        }
      ]
    },
    {
      "cell_type": "markdown",
      "source": [
        "#### 予測分布を重ねる"
      ],
      "metadata": {
        "id": "-L0k9l-RD6He"
      }
    },
    {
      "cell_type": "markdown",
      "source": [
        "このデータにパラメータ$\\lambda$のポアソン分布を仮定して，最尤推定値$\\hat\\lambda$を求める．$\\hat\\lambda=\\overline x_n$である．"
      ],
      "metadata": {
        "id": "sLRXJHO6EVmr"
      }
    },
    {
      "cell_type": "code",
      "source": [
        "hat.lambda = mean(xn)\n",
        "hat.lambda"
      ],
      "metadata": {
        "colab": {
          "base_uri": "https://localhost:8080/",
          "height": 34
        },
        "id": "plG4JtonEmeH",
        "outputId": "46d31b30-a42d-4e56-e8e7-0418fafa630d"
      },
      "execution_count": 43,
      "outputs": [
        {
          "output_type": "display_data",
          "data": {
            "text/html": [
              "2.6"
            ],
            "text/markdown": "2.6",
            "text/latex": "2.6",
            "text/plain": [
              "[1] 2.6"
            ]
          },
          "metadata": {}
        }
      ]
    },
    {
      "cell_type": "markdown",
      "source": [
        "最尤法における予測分布は，最尤推定値を確率関数にプラグインしたものである．つまり，${\\rm Pisson}(x| \\hat \\lambda) = \\frac{\\hat\\lambda^x}{x!}e^{-\\hat\\lambda}$．ただし，x!の計算には，$\\Gamma(x+1)=x!$を利用する．"
      ],
      "metadata": {
        "id": "6W8J8lE0EAi8"
      }
    },
    {
      "cell_type": "code",
      "source": [
        "p <- function(x, lambda){\n",
        "  lambda^x / gamma(x+1) * exp(-lambda)\n",
        "}\n",
        "predict.func <- function(x){\n",
        "  p(x, hat.lambda)\n",
        "}\n",
        "pred <- predict.func(0:8)\n",
        "pred"
      ],
      "metadata": {
        "colab": {
          "base_uri": "https://localhost:8080/",
          "height": 51
        },
        "id": "iT-JlYy-D_Pk",
        "outputId": "8e24dfed-4fc1-4794-ec6d-8c9fb810fa7a"
      },
      "execution_count": 47,
      "outputs": [
        {
          "output_type": "display_data",
          "data": {
            "text/html": [
              "<style>\n",
              ".list-inline {list-style: none; margin:0; padding: 0}\n",
              ".list-inline>li {display: inline-block}\n",
              ".list-inline>li:not(:last-child)::after {content: \"\\00b7\"; padding: 0 .5ex}\n",
              "</style>\n",
              "<ol class=list-inline><li>0.0742735782143339</li><li>0.193111303357268</li><li>0.251044694364449</li><li>0.217572068449189</li><li>0.141421844491973</li><li>0.0735393591358258</li><li>0.0318670556255245</li><li>0.0118363349466234</li><li>0.0038468088576526</li></ol>\n"
            ],
            "text/markdown": "1. 0.0742735782143339\n2. 0.193111303357268\n3. 0.251044694364449\n4. 0.217572068449189\n5. 0.141421844491973\n6. 0.0735393591358258\n7. 0.0318670556255245\n8. 0.0118363349466234\n9. 0.0038468088576526\n\n\n",
            "text/latex": "\\begin{enumerate*}\n\\item 0.0742735782143339\n\\item 0.193111303357268\n\\item 0.251044694364449\n\\item 0.217572068449189\n\\item 0.141421844491973\n\\item 0.0735393591358258\n\\item 0.0318670556255245\n\\item 0.0118363349466234\n\\item 0.0038468088576526\n\\end{enumerate*}\n",
            "text/plain": [
              "[1] 0.074273578 0.193111303 0.251044694 0.217572068 0.141421844 0.073539359\n",
              "[7] 0.031867056 0.011836335 0.003846809"
            ]
          },
          "metadata": {}
        }
      ]
    },
    {
      "cell_type": "markdown",
      "source": [
        "この予測分布を，ヒストグラムに重ねる．"
      ],
      "metadata": {
        "id": "JHMy9yycFxMU"
      }
    },
    {
      "cell_type": "code",
      "source": [
        "data.frame(xn) %>% ggplot() + \n",
        "  geom_histogram(aes(xn, ..count../sum(..count..)), binwidth = 1, col=\"white\") + \n",
        "  scale_x_continuous(breaks = 0:8)+\n",
        "  ggtitle(\"ブログのアクセス数\") + xlab(\"アクセス人数\") + ylab(\"相対度数\") +\n",
        "  geom_bar(data=data.frame(i=0:8, pred), aes(i, weight=pred), col=\"red\", fill=\"red\", width=0.05, alpha=.3)"
      ],
      "metadata": {
        "colab": {
          "base_uri": "https://localhost:8080/",
          "height": 437
        },
        "id": "TX4qKLFMG6km",
        "outputId": "dc5a1c0b-c2a6-433e-aba1-b06a91039bf2"
      },
      "execution_count": 56,
      "outputs": [
        {
          "output_type": "display_data",
          "data": {
            "text/plain": [
              "plot without title"
            ],
            "image/png": "[encoded data removed]"
          },
          "metadata": {
            "image/png": {
              "width": 420,
              "height": 420
            }
          }
        }
      ]
    }
  ]
}