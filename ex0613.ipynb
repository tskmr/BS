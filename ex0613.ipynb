{
  "nbformat": 4,
  "nbformat_minor": 0,
  "metadata": {
    "colab": {
      "provenance": [],
      "authorship_tag": "ABX9TyMapMZ266//VH4nbP/cEHjC",
      "include_colab_link": true
    },
    "kernelspec": {
      "name": "ir",
      "display_name": "R"
    },
    "language_info": {
      "name": "R"
    }
  },
  "cells": [
    {
      "cell_type": "markdown",
      "metadata": {
        "id": "view-in-github",
        "colab_type": "text"
      },
      "source": [
        "<a href=\"https://colab.research.google.com/github/tskmr/BS/blob/main/ex0613.ipynb\" target=\"_parent\"><img src=\"https://colab.research.google.com/assets/colab-badge.svg\" alt=\"Open In Colab\"/></a>"
      ]
    },
    {
      "cell_type": "markdown",
      "source": [
        "# セッション5実践編： エラー/エラーメッセージ\n"
      ],
      "metadata": {
        "id": "H8unnbr0QBKG"
      }
    },
    {
      "cell_type": "markdown",
      "source": [
        "以下の設問について、何が問題だったのか、どのようにプログラムを修正すればよいのかを説明してください．\n"
      ],
      "metadata": {
        "id": "DlWxx2qWQDVo"
      }
    },
    {
      "cell_type": "code",
      "source": [
        "library(ggplot2)\n",
        "library(dplyr)"
      ],
      "metadata": {
        "colab": {
          "base_uri": "https://localhost:8080/"
        },
        "id": "9xuTRM5CQShF",
        "outputId": "3c805e21-be60-4e27-f8ab-75618e60e058"
      },
      "execution_count": 1,
      "outputs": [
        {
          "output_type": "stream",
          "name": "stderr",
          "text": [
            "\n",
            "Attaching package: ‘dplyr’\n",
            "\n",
            "\n",
            "The following objects are masked from ‘package:stats’:\n",
            "\n",
            "    filter, lag\n",
            "\n",
            "\n",
            "The following objects are masked from ‘package:base’:\n",
            "\n",
            "    intersect, setdiff, setequal, union\n",
            "\n",
            "\n"
          ]
        }
      ]
    },
    {
      "cell_type": "markdown",
      "source": [
        "xとyを足して24という値を求めたい：\n"
      ],
      "metadata": {
        "id": "vf3Hr6g6QF80"
      }
    },
    {
      "cell_type": "code",
      "source": [
        "x <- 14\n",
        "y <- \"10\"\n",
        "x + y"
      ],
      "metadata": {
        "colab": {
          "base_uri": "https://localhost:8080/",
          "height": 96
        },
        "id": "lhPWCqgPYmEy",
        "outputId": "00151ae4-bc91-4e70-d129-a6ede693c411"
      },
      "execution_count": 40,
      "outputs": [
        {
          "output_type": "error",
          "ename": "ERROR",
          "evalue": "ignored",
          "traceback": [
            "Error in x + y: non-numeric argument to binary operator\nTraceback:\n"
          ]
        }
      ]
    },
    {
      "cell_type": "markdown",
      "source": [
        "数値と文字列を足そうとしたエラー．yを数値にすれば良い．"
      ],
      "metadata": {
        "id": "xaWnMD3mZHR_"
      }
    },
    {
      "cell_type": "code",
      "source": [
        "x <- 14\n",
        "y <- 10\n",
        "x + y"
      ],
      "metadata": {
        "colab": {
          "base_uri": "https://localhost:8080/",
          "height": 34
        },
        "id": "V5uxdAYKQWFp",
        "outputId": "24b1ce72-db28-4e97-a7b5-fbe5af4de8df"
      },
      "execution_count": 42,
      "outputs": [
        {
          "output_type": "display_data",
          "data": {
            "text/html": [
              "24"
            ],
            "text/markdown": "24",
            "text/latex": "24",
            "text/plain": [
              "[1] 24"
            ]
          },
          "metadata": {}
        }
      ]
    },
    {
      "cell_type": "markdown",
      "source": [
        "1+2を足して、3+4で割りたい：\n"
      ],
      "metadata": {
        "id": "fykpe_73QHkA"
      }
    },
    {
      "cell_type": "code",
      "source": [
        "((1+2)/(3+4)))"
      ],
      "metadata": {
        "colab": {
          "base_uri": "https://localhost:8080/",
          "height": 130
        },
        "id": "_P9uFN3eYt5o",
        "outputId": "39f1a23e-1d13-48c5-afab-93630b7170ad"
      },
      "execution_count": 43,
      "outputs": [
        {
          "output_type": "error",
          "ename": "ERROR",
          "evalue": "ignored",
          "traceback": [
            "Error in parse(text = x, srcfile = src): <text>:1:14: unexpected ')'\n1: ((1+2)/(3+4)))\n                 ^\nTraceback:\n"
          ]
        }
      ]
    },
    {
      "cell_type": "markdown",
      "source": [
        "カッコが一つ多い"
      ],
      "metadata": {
        "id": "Vulo5NeWZOFx"
      }
    },
    {
      "cell_type": "code",
      "source": [
        "((1+2)/(3+4))"
      ],
      "metadata": {
        "colab": {
          "base_uri": "https://localhost:8080/",
          "height": 34
        },
        "id": "3MZU9XADQiJF",
        "outputId": "3a81852d-eabd-478f-fda1-980e0cfd1b43"
      },
      "execution_count": 44,
      "outputs": [
        {
          "output_type": "display_data",
          "data": {
            "text/html": [
              "0.428571428571429"
            ],
            "text/markdown": "0.428571428571429",
            "text/latex": "0.428571428571429",
            "text/plain": [
              "[1] 0.4285714"
            ]
          },
          "metadata": {}
        }
      ]
    },
    {
      "cell_type": "markdown",
      "source": [
        "残りの問題では、mtcarsデータセットを使用する：\n",
        "\n"
      ],
      "metadata": {
        "id": "JCrvVlPIQIZb"
      }
    },
    {
      "cell_type": "code",
      "source": [
        "data(mtcars)\n"
      ],
      "metadata": {
        "id": "Plq95PUAQm9l"
      },
      "execution_count": 4,
      "outputs": []
    },
    {
      "cell_type": "markdown",
      "source": [
        "1,2,・・・,L-1という数字のベクトルを変数 x に保存したい。ここで、Lは mtcars の列の数である。\n"
      ],
      "metadata": {
        "id": "YIs0Sb9oQKLr"
      }
    },
    {
      "cell_type": "code",
      "source": [
        "x <- 1:ncol(mtcars)-1\n",
        "x"
      ],
      "metadata": {
        "colab": {
          "base_uri": "https://localhost:8080/",
          "height": 34
        },
        "id": "mJCjLqVTYxjN",
        "outputId": "9f6ad038-8ccb-4768-b2bb-f3f846923815"
      },
      "execution_count": 45,
      "outputs": [
        {
          "output_type": "display_data",
          "data": {
            "text/html": [
              "<style>\n",
              ".list-inline {list-style: none; margin:0; padding: 0}\n",
              ".list-inline>li {display: inline-block}\n",
              ".list-inline>li:not(:last-child)::after {content: \"\\00b7\"; padding: 0 .5ex}\n",
              "</style>\n",
              "<ol class=list-inline><li>0</li><li>1</li><li>2</li><li>3</li><li>4</li><li>5</li><li>6</li><li>7</li><li>8</li><li>9</li><li>10</li></ol>\n"
            ],
            "text/markdown": "1. 0\n2. 1\n3. 2\n4. 3\n5. 4\n6. 5\n7. 6\n8. 7\n9. 8\n10. 9\n11. 10\n\n\n",
            "text/latex": "\\begin{enumerate*}\n\\item 0\n\\item 1\n\\item 2\n\\item 3\n\\item 4\n\\item 5\n\\item 6\n\\item 7\n\\item 8\n\\item 9\n\\item 10\n\\end{enumerate*}\n",
            "text/plain": [
              " [1]  0  1  2  3  4  5  6  7  8  9 10"
            ]
          },
          "metadata": {}
        }
      ]
    },
    {
      "cell_type": "markdown",
      "source": [
        "1:11までを作ってから-1している間違い．1:(11-1)にしないといけない"
      ],
      "metadata": {
        "id": "7AytiISTZRro"
      }
    },
    {
      "cell_type": "code",
      "source": [
        "x <- 1:(ncol(mtcars)-1)"
      ],
      "metadata": {
        "id": "KDLr0DgDQpMb"
      },
      "execution_count": 47,
      "outputs": []
    },
    {
      "cell_type": "code",
      "source": [
        "dim(mtcars)\n",
        "colnames(mtcars)\n",
        "length(colnames(mtcars))"
      ],
      "metadata": {
        "colab": {
          "base_uri": "https://localhost:8080/",
          "height": 68
        },
        "id": "jQCPxD_uQ6xU",
        "outputId": "14741b24-498d-4650-8da8-c14c3545569d"
      },
      "execution_count": 10,
      "outputs": [
        {
          "output_type": "display_data",
          "data": {
            "text/html": [
              "<style>\n",
              ".list-inline {list-style: none; margin:0; padding: 0}\n",
              ".list-inline>li {display: inline-block}\n",
              ".list-inline>li:not(:last-child)::after {content: \"\\00b7\"; padding: 0 .5ex}\n",
              "</style>\n",
              "<ol class=list-inline><li>32</li><li>11</li></ol>\n"
            ],
            "text/markdown": "1. 32\n2. 11\n\n\n",
            "text/latex": "\\begin{enumerate*}\n\\item 32\n\\item 11\n\\end{enumerate*}\n",
            "text/plain": [
              "[1] 32 11"
            ]
          },
          "metadata": {}
        },
        {
          "output_type": "display_data",
          "data": {
            "text/html": [
              "<style>\n",
              ".list-inline {list-style: none; margin:0; padding: 0}\n",
              ".list-inline>li {display: inline-block}\n",
              ".list-inline>li:not(:last-child)::after {content: \"\\00b7\"; padding: 0 .5ex}\n",
              "</style>\n",
              "<ol class=list-inline><li>'mpg'</li><li>'cyl'</li><li>'disp'</li><li>'hp'</li><li>'drat'</li><li>'wt'</li><li>'qsec'</li><li>'vs'</li><li>'am'</li><li>'gear'</li><li>'carb'</li></ol>\n"
            ],
            "text/markdown": "1. 'mpg'\n2. 'cyl'\n3. 'disp'\n4. 'hp'\n5. 'drat'\n6. 'wt'\n7. 'qsec'\n8. 'vs'\n9. 'am'\n10. 'gear'\n11. 'carb'\n\n\n",
            "text/latex": "\\begin{enumerate*}\n\\item 'mpg'\n\\item 'cyl'\n\\item 'disp'\n\\item 'hp'\n\\item 'drat'\n\\item 'wt'\n\\item 'qsec'\n\\item 'vs'\n\\item 'am'\n\\item 'gear'\n\\item 'carb'\n\\end{enumerate*}\n",
            "text/plain": [
              " [1] \"mpg\"  \"cyl\"  \"disp\" \"hp\"   \"drat\" \"wt\"   \"qsec\" \"vs\"   \"am\"   \"gear\"\n",
              "[11] \"carb\""
            ]
          },
          "metadata": {}
        },
        {
          "output_type": "display_data",
          "data": {
            "text/html": [
              "11"
            ],
            "text/markdown": "11",
            "text/latex": "11",
            "text/plain": [
              "[1] 11"
            ]
          },
          "metadata": {}
        }
      ]
    },
    {
      "cell_type": "markdown",
      "source": [
        "mpgとwtの散布図を作りたい：\n"
      ],
      "metadata": {
        "id": "h_4gBQABQLOo"
      }
    },
    {
      "cell_type": "code",
      "source": [
        "ggplot(data = mtcars) +\n",
        "    geom_point(y = mpg, x = wt)"
      ],
      "metadata": {
        "colab": {
          "base_uri": "https://localhost:8080/",
          "height": 198
        },
        "id": "vrQDaulQY8wL",
        "outputId": "722e65a9-d10f-4e39-efda-1f2d6d067ea9"
      },
      "execution_count": 49,
      "outputs": [
        {
          "output_type": "error",
          "ename": "ERROR",
          "evalue": "ignored",
          "traceback": [
            "Error in eval(expr, envir, enclos): object 'wt' not found\nTraceback:\n",
            "1. geom_point(y = mpg, x = wt)",
            "2. layer(data = data, mapping = mapping, stat = stat, geom = GeomPoint, \n .     position = position, show.legend = show.legend, inherit.aes = inherit.aes, \n .     params = list2(na.rm = na.rm, ...))",
            "3. list2(na.rm = na.rm, ...)"
          ]
        }
      ]
    },
    {
      "cell_type": "markdown",
      "source": [
        "aes() が抜けている．"
      ],
      "metadata": {
        "id": "VWB14950Za5g"
      }
    },
    {
      "cell_type": "code",
      "source": [
        "ggplot(data = mtcars) +\n",
        "    geom_point(aes(y = mpg, x = wt))"
      ],
      "metadata": {
        "colab": {
          "base_uri": "https://localhost:8080/",
          "height": 437
        },
        "id": "t0yCiiFnZeJ0",
        "outputId": "0b48b7f6-666e-4c74-f444-33b6843232dd"
      },
      "execution_count": 50,
      "outputs": [
        {
          "output_type": "display_data",
          "data": {
            "text/plain": [
              "plot without title"
            ],
            "image/png": "[encoded data removed]"
          },
          "metadata": {
            "image/png": {
              "width": 420,
              "height": 420
            }
          }
        }
      ]
    },
    {
      "cell_type": "markdown",
      "source": [
        "mpgのヒストグラムを作りたい：\n"
      ],
      "metadata": {
        "id": "lcgju7JJQLwl"
      }
    },
    {
      "cell_type": "code",
      "source": [
        "ggplot(data = mtcars)\n",
        "    + geom_histogram(aes(x = mpg))"
      ],
      "metadata": {
        "colab": {
          "base_uri": "https://localhost:8080/",
          "height": 669
        },
        "id": "xMlFJceOZk5X",
        "outputId": "0005f5a2-1141-4735-dd18-b996a3de760b"
      },
      "execution_count": 51,
      "outputs": [
        {
          "output_type": "error",
          "ename": "ERROR",
          "evalue": "ignored",
          "traceback": [
            "\u001b[1m\u001b[33mError\u001b[39m:\u001b[22m\n\u001b[1m\u001b[22m\u001b[33m!\u001b[39m Cannot use `+` with a single argument\n\u001b[36mℹ\u001b[39m Did you accidentally put `+` on a new line?\nTraceback:\n",
            "1. `+.gg`(geom_histogram(aes(x = mpg)))",
            "2. cli::cli_abort(c(\"Cannot use {.code +} with a single argument\", \n .     i = \"Did you accidentally put {.code +} on a new line?\"))",
            "3. rlang::abort(message, ..., call = call, use_cli_format = TRUE, \n .     .frame = .frame)",
            "4. signal_abort(cnd, .file)"
          ]
        },
        {
          "output_type": "display_data",
          "data": {
            "text/plain": [
              "plot without title"
            ],
            "image/png": "[encoded data removed]"
          },
          "metadata": {
            "image/png": {
              "width": 420,
              "height": 420
            }
          }
        }
      ]
    },
    {
      "cell_type": "markdown",
      "source": [
        "`+`は改行する前に書く必要がある．"
      ],
      "metadata": {
        "id": "p2dYqjiWZnJa"
      }
    },
    {
      "cell_type": "code",
      "source": [
        "ggplot(data = mtcars) +\n",
        "    geom_histogram(aes(x = mpg))"
      ],
      "metadata": {
        "colab": {
          "base_uri": "https://localhost:8080/",
          "height": 454
        },
        "id": "zzC81XeNZrHP",
        "outputId": "578f1b34-4b21-4be3-9f1d-ee9f89853e83"
      },
      "execution_count": 52,
      "outputs": [
        {
          "output_type": "stream",
          "name": "stderr",
          "text": [
            "\u001b[1m\u001b[22m`stat_bin()` using `bins = 30`. Pick better value with `binwidth`.\n"
          ]
        },
        {
          "output_type": "display_data",
          "data": {
            "text/plain": [
              "plot without title"
            ],
            "image/png": "[encoded data removed]"
          },
          "metadata": {
            "image/png": {
              "width": 420,
              "height": 420
            }
          }
        }
      ]
    },
    {
      "cell_type": "markdown",
      "source": [
        "cylの各値に対してmpgのboxplotを作成し、ポイントでオーバーレイし、プロットにタイトルを付けたい：\n"
      ],
      "metadata": {
        "id": "ck8vrgDXQMj5"
      }
    },
    {
      "cell_type": "code",
      "source": [
        "ggplot(data = mtcars, aes(x = cyl, y = mpg)) +\n",
        "    geom_boxplot() +\n",
        "    geom_point()\n",
        "    labs(title = \"Plot of mpg vs. cyl\")"
      ],
      "metadata": {
        "colab": {
          "base_uri": "https://localhost:8080/",
          "height": 573
        },
        "id": "U_zOH8WcZwp6",
        "outputId": "77f40c73-87fd-4971-d50d-fb69b9d7e004"
      },
      "execution_count": 53,
      "outputs": [
        {
          "output_type": "stream",
          "name": "stderr",
          "text": [
            "Warning message:\n",
            "“\u001b[1m\u001b[22mContinuous \u001b[32mx\u001b[39m aesthetic\n",
            "\u001b[36mℹ\u001b[39m did you forget `aes(group = ...)`?”\n"
          ]
        },
        {
          "output_type": "display_data",
          "data": {
            "text/plain": [
              "$title\n",
              "[1] \"Plot of mpg vs. cyl\"\n",
              "\n",
              "attr(,\"class\")\n",
              "[1] \"labels\""
            ]
          },
          "metadata": {}
        },
        {
          "output_type": "display_data",
          "data": {
            "text/plain": [
              "plot without title"
            ],
            "image/png": "[encoded data removed]"
          },
          "metadata": {
            "image/png": {
              "width": 420,
              "height": 420
            }
          }
        }
      ]
    },
    {
      "cell_type": "markdown",
      "source": [
        "`boxplot`では，`group`で分けないといけない．"
      ],
      "metadata": {
        "id": "heS3VUemZ2iN"
      }
    },
    {
      "cell_type": "code",
      "source": [
        "ggplot(data = mtcars, aes(x = cyl, y = mpg, group=cyl)) +\n",
        "    geom_boxplot() +\n",
        "    geom_point()\n",
        "    labs(title = \"Plot of mpg vs. cyl\")"
      ],
      "metadata": {
        "colab": {
          "base_uri": "https://localhost:8080/",
          "height": 522
        },
        "id": "xg8Pn3-XSAPX",
        "outputId": "7170680f-3f45-4a2a-bdb8-e60488d1ef15"
      },
      "execution_count": 54,
      "outputs": [
        {
          "output_type": "display_data",
          "data": {
            "text/plain": [
              "$title\n",
              "[1] \"Plot of mpg vs. cyl\"\n",
              "\n",
              "attr(,\"class\")\n",
              "[1] \"labels\""
            ]
          },
          "metadata": {}
        },
        {
          "output_type": "display_data",
          "data": {
            "text/plain": [
              "plot without title"
            ],
            "image/png": "[encoded data removed]"
          },
          "metadata": {
            "image/png": {
              "width": 420,
              "height": 420
            }
          }
        }
      ]
    },
    {
      "cell_type": "markdown",
      "source": [
        "qsec vs. wt の散布図が欲しいが、すべての点を青く着色したい：\n"
      ],
      "metadata": {
        "id": "LFyNqJX6QNsx"
      }
    },
    {
      "cell_type": "code",
      "source": [
        "ggplot(data = mtcars, aes(y = qsec, x = wt)) +\n",
        "    geom_point(aes(col = \"blue\"))\n"
      ],
      "metadata": {
        "colab": {
          "base_uri": "https://localhost:8080/",
          "height": 437
        },
        "id": "xq9-2O5NZ9by",
        "outputId": "a8302564-49f5-4a82-93e0-da513e10e0c1"
      },
      "execution_count": 55,
      "outputs": [
        {
          "output_type": "display_data",
          "data": {
            "text/plain": [
              "plot without title"
            ],
            "image/png": "[encoded data removed]"
          },
          "metadata": {
            "image/png": {
              "width": 420,
              "height": 420
            }
          }
        }
      ]
    },
    {
      "cell_type": "markdown",
      "source": [
        "`aes()`の中で`col=\"blue\"`としたため，\"blue\"という文字で色分けしようとしている．`ggplot`では離散データは，赤・青・緑のように順番に色が自動的に割り当てられる．\n",
        "正しくは，`aes()`の外で色を指定する．"
      ],
      "metadata": {
        "id": "crn6zXpJaAFB"
      }
    },
    {
      "cell_type": "code",
      "source": [
        "ggplot(data = mtcars, aes(y = qsec, x = wt)) +\n",
        "    geom_point(col = \"blue\")\n"
      ],
      "metadata": {
        "colab": {
          "base_uri": "https://localhost:8080/",
          "height": 437
        },
        "id": "ULz6mu9rSumb",
        "outputId": "3878c160-ca68-4877-81fc-417c01799828"
      },
      "execution_count": 56,
      "outputs": [
        {
          "output_type": "display_data",
          "data": {
            "text/plain": [
              "plot without title"
            ],
            "image/png": "[encoded data removed]"
          },
          "metadata": {
            "image/png": {
              "width": 420,
              "height": 420
            }
          }
        }
      ]
    },
    {
      "cell_type": "markdown",
      "source": [
        "miles per quartという新しい列を作成し、最初の3行を表示したい：\n"
      ],
      "metadata": {
        "id": "6_0Jd2oNQOwD"
      }
    },
    {
      "cell_type": "code",
      "source": [
        "mtcars %>% mutate(miles per quart = mpg / 4) %>% head(n = 3)\n"
      ],
      "metadata": {
        "colab": {
          "base_uri": "https://localhost:8080/",
          "height": 130
        },
        "id": "tf5uQqRZajfu",
        "outputId": "865ef544-87c1-4836-bc4f-a093248ed774"
      },
      "execution_count": 57,
      "outputs": [
        {
          "output_type": "error",
          "ename": "ERROR",
          "evalue": "ignored",
          "traceback": [
            "Error in parse(text = x, srcfile = src): <text>:1:25: unexpected symbol\n1: mtcars %>% mutate(miles per\n                            ^\nTraceback:\n"
          ]
        }
      ]
    },
    {
      "cell_type": "markdown",
      "source": [
        "列名にスペースや特殊記号を入れる場合は，``で囲む．"
      ],
      "metadata": {
        "id": "NuHamCnsaoFV"
      }
    },
    {
      "cell_type": "code",
      "source": [
        "mtcars %>% mutate(`miles per quart` = mpg / 4) %>% head(3)"
      ],
      "metadata": {
        "colab": {
          "base_uri": "https://localhost:8080/",
          "height": 190
        },
        "id": "VZxjNndbS_Ce",
        "outputId": "f531c0c6-ac6f-499c-c123-dee813fd3cde"
      },
      "execution_count": 58,
      "outputs": [
        {
          "output_type": "display_data",
          "data": {
            "text/html": [
              "<table class=\"dataframe\">\n",
              "<caption>A data.frame: 3 × 12</caption>\n",
              "<thead>\n",
              "\t<tr><th></th><th scope=col>mpg</th><th scope=col>cyl</th><th scope=col>disp</th><th scope=col>hp</th><th scope=col>drat</th><th scope=col>wt</th><th scope=col>qsec</th><th scope=col>vs</th><th scope=col>am</th><th scope=col>gear</th><th scope=col>carb</th><th scope=col>miles per quart</th></tr>\n",
              "\t<tr><th></th><th scope=col>&lt;dbl&gt;</th><th scope=col>&lt;dbl&gt;</th><th scope=col>&lt;dbl&gt;</th><th scope=col>&lt;dbl&gt;</th><th scope=col>&lt;dbl&gt;</th><th scope=col>&lt;dbl&gt;</th><th scope=col>&lt;dbl&gt;</th><th scope=col>&lt;dbl&gt;</th><th scope=col>&lt;dbl&gt;</th><th scope=col>&lt;dbl&gt;</th><th scope=col>&lt;dbl&gt;</th><th scope=col>&lt;dbl&gt;</th></tr>\n",
              "</thead>\n",
              "<tbody>\n",
              "\t<tr><th scope=row>Mazda RX4</th><td>21.0</td><td>6</td><td>160</td><td>110</td><td>3.90</td><td>2.620</td><td>16.46</td><td>0</td><td>1</td><td>4</td><td>4</td><td>5.25</td></tr>\n",
              "\t<tr><th scope=row>Mazda RX4 Wag</th><td>21.0</td><td>6</td><td>160</td><td>110</td><td>3.90</td><td>2.875</td><td>17.02</td><td>0</td><td>1</td><td>4</td><td>4</td><td>5.25</td></tr>\n",
              "\t<tr><th scope=row>Datsun 710</th><td>22.8</td><td>4</td><td>108</td><td> 93</td><td>3.85</td><td>2.320</td><td>18.61</td><td>1</td><td>1</td><td>4</td><td>1</td><td>5.70</td></tr>\n",
              "</tbody>\n",
              "</table>\n"
            ],
            "text/markdown": "\nA data.frame: 3 × 12\n\n| <!--/--> | mpg &lt;dbl&gt; | cyl &lt;dbl&gt; | disp &lt;dbl&gt; | hp &lt;dbl&gt; | drat &lt;dbl&gt; | wt &lt;dbl&gt; | qsec &lt;dbl&gt; | vs &lt;dbl&gt; | am &lt;dbl&gt; | gear &lt;dbl&gt; | carb &lt;dbl&gt; | miles per quart &lt;dbl&gt; |\n|---|---|---|---|---|---|---|---|---|---|---|---|---|\n| Mazda RX4 | 21.0 | 6 | 160 | 110 | 3.90 | 2.620 | 16.46 | 0 | 1 | 4 | 4 | 5.25 |\n| Mazda RX4 Wag | 21.0 | 6 | 160 | 110 | 3.90 | 2.875 | 17.02 | 0 | 1 | 4 | 4 | 5.25 |\n| Datsun 710 | 22.8 | 4 | 108 |  93 | 3.85 | 2.320 | 18.61 | 1 | 1 | 4 | 1 | 5.70 |\n\n",
            "text/latex": "A data.frame: 3 × 12\n\\begin{tabular}{r|llllllllllll}\n  & mpg & cyl & disp & hp & drat & wt & qsec & vs & am & gear & carb & miles per quart\\\\\n  & <dbl> & <dbl> & <dbl> & <dbl> & <dbl> & <dbl> & <dbl> & <dbl> & <dbl> & <dbl> & <dbl> & <dbl>\\\\\n\\hline\n\tMazda RX4 & 21.0 & 6 & 160 & 110 & 3.90 & 2.620 & 16.46 & 0 & 1 & 4 & 4 & 5.25\\\\\n\tMazda RX4 Wag & 21.0 & 6 & 160 & 110 & 3.90 & 2.875 & 17.02 & 0 & 1 & 4 & 4 & 5.25\\\\\n\tDatsun 710 & 22.8 & 4 & 108 &  93 & 3.85 & 2.320 & 18.61 & 1 & 1 & 4 & 1 & 5.70\\\\\n\\end{tabular}\n",
            "text/plain": [
              "              mpg  cyl disp hp  drat wt    qsec  vs am gear carb\n",
              "Mazda RX4     21.0 6   160  110 3.90 2.620 16.46 0  1  4    4   \n",
              "Mazda RX4 Wag 21.0 6   160  110 3.90 2.875 17.02 0  1  4    4   \n",
              "Datsun 710    22.8 4   108   93 3.85 2.320 18.61 1  1  4    1   \n",
              "              miles per quart\n",
              "Mazda RX4     5.25           \n",
              "Mazda RX4 Wag 5.25           \n",
              "Datsun 710    5.70           "
            ]
          },
          "metadata": {}
        }
      ]
    },
    {
      "cell_type": "markdown",
      "source": [
        "gear の各値の平均値mpgを計算したい：\n"
      ],
      "metadata": {
        "id": "muDBH9ovQPpx"
      }
    },
    {
      "cell_type": "code",
      "source": [
        "mtcars %>% group_by(gear) %>% summarize(mean = mean)\n"
      ],
      "metadata": {
        "id": "mL0wN1zGa3qV"
      },
      "execution_count": null,
      "outputs": []
    },
    {
      "cell_type": "markdown",
      "source": [
        "`mean`するときは，どの列か指定しないといけない．"
      ],
      "metadata": {
        "id": "l1LVpYyIbBGd"
      }
    },
    {
      "cell_type": "code",
      "source": [
        "mtcars %>% group_by(gear) %>% summarise(mean = mean(mpg))"
      ],
      "metadata": {
        "colab": {
          "base_uri": "https://localhost:8080/",
          "height": 190
        },
        "id": "j20xBcjHUCtO",
        "outputId": "fbd6152e-d84b-4dee-801f-8aee8d6676a7"
      },
      "execution_count": 60,
      "outputs": [
        {
          "output_type": "display_data",
          "data": {
            "text/html": [
              "<table class=\"dataframe\">\n",
              "<caption>A tibble: 3 × 2</caption>\n",
              "<thead>\n",
              "\t<tr><th scope=col>gear</th><th scope=col>mean</th></tr>\n",
              "\t<tr><th scope=col>&lt;dbl&gt;</th><th scope=col>&lt;dbl&gt;</th></tr>\n",
              "</thead>\n",
              "<tbody>\n",
              "\t<tr><td>3</td><td>16.10667</td></tr>\n",
              "\t<tr><td>4</td><td>24.53333</td></tr>\n",
              "\t<tr><td>5</td><td>21.38000</td></tr>\n",
              "</tbody>\n",
              "</table>\n"
            ],
            "text/markdown": "\nA tibble: 3 × 2\n\n| gear &lt;dbl&gt; | mean &lt;dbl&gt; |\n|---|---|\n| 3 | 16.10667 |\n| 4 | 24.53333 |\n| 5 | 21.38000 |\n\n",
            "text/latex": "A tibble: 3 × 2\n\\begin{tabular}{ll}\n gear & mean\\\\\n <dbl> & <dbl>\\\\\n\\hline\n\t 3 & 16.10667\\\\\n\t 4 & 24.53333\\\\\n\t 5 & 21.38000\\\\\n\\end{tabular}\n",
            "text/plain": [
              "  gear mean    \n",
              "1 3    16.10667\n",
              "2 4    24.53333\n",
              "3 5    21.38000"
            ]
          },
          "metadata": {}
        }
      ]
    },
    {
      "cell_type": "markdown",
      "source": [
        "データセット中の最大値であるhpとdispを計算したい："
      ],
      "metadata": {
        "id": "ADyaOcWjQQt3"
      }
    },
    {
      "cell_type": "code",
      "source": [
        "mtcars %>% summarize(max = max(hp, disp))\n"
      ],
      "metadata": {
        "colab": {
          "base_uri": "https://localhost:8080/",
          "height": 162
        },
        "id": "bwZwNp4fbGxs",
        "outputId": "b170f391-ddd3-41a3-e9a9-d45dc3c449c9"
      },
      "execution_count": 61,
      "outputs": [
        {
          "output_type": "display_data",
          "data": {
            "text/html": [
              "<table class=\"dataframe\">\n",
              "<caption>A data.frame: 1 × 1</caption>\n",
              "<thead>\n",
              "\t<tr><th scope=col>max</th></tr>\n",
              "\t<tr><th scope=col>&lt;dbl&gt;</th></tr>\n",
              "</thead>\n",
              "<tbody>\n",
              "\t<tr><td>472</td></tr>\n",
              "</tbody>\n",
              "</table>\n"
            ],
            "text/markdown": "\nA data.frame: 1 × 1\n\n| max &lt;dbl&gt; |\n|---|\n| 472 |\n\n",
            "text/latex": "A data.frame: 1 × 1\n\\begin{tabular}{l}\n max\\\\\n <dbl>\\\\\n\\hline\n\t 472\\\\\n\\end{tabular}\n",
            "text/plain": [
              "  max\n",
              "1 472"
            ]
          },
          "metadata": {}
        }
      ]
    },
    {
      "cell_type": "markdown",
      "source": [
        "２つの列でそれぞれ`max`を計算するときには，同時に`max`に入れてはいけない．"
      ],
      "metadata": {
        "id": "NvNliNDobH3a"
      }
    },
    {
      "cell_type": "code",
      "source": [
        "mtcars %>% summarize(max.hp = max(hp), max.disp=max(disp))"
      ],
      "metadata": {
        "colab": {
          "base_uri": "https://localhost:8080/",
          "height": 128
        },
        "id": "kTwbP961bUPA",
        "outputId": "9c35b23a-7af2-410c-ea71-4198519b2b0f"
      },
      "execution_count": 64,
      "outputs": [
        {
          "output_type": "display_data",
          "data": {
            "text/html": [
              "<table class=\"dataframe\">\n",
              "<caption>A data.frame: 1 × 2</caption>\n",
              "<thead>\n",
              "\t<tr><th scope=col>max.hp</th><th scope=col>max.disp</th></tr>\n",
              "\t<tr><th scope=col>&lt;dbl&gt;</th><th scope=col>&lt;dbl&gt;</th></tr>\n",
              "</thead>\n",
              "<tbody>\n",
              "\t<tr><td>335</td><td>472</td></tr>\n",
              "</tbody>\n",
              "</table>\n"
            ],
            "text/markdown": "\nA data.frame: 1 × 2\n\n| max.hp &lt;dbl&gt; | max.disp &lt;dbl&gt; |\n|---|---|\n| 335 | 472 |\n\n",
            "text/latex": "A data.frame: 1 × 2\n\\begin{tabular}{ll}\n max.hp & max.disp\\\\\n <dbl> & <dbl>\\\\\n\\hline\n\t 335 & 472\\\\\n\\end{tabular}\n",
            "text/plain": [
              "  max.hp max.disp\n",
              "1 335    472     "
            ]
          },
          "metadata": {}
        }
      ]
    },
    {
      "cell_type": "markdown",
      "source": [
        "または，`summarize_all`を使っても良い．"
      ],
      "metadata": {
        "id": "poNjtti6bajy"
      }
    },
    {
      "cell_type": "code",
      "source": [
        "mtcars %>% select(hp, disp) %>% summarize_all(max)"
      ],
      "metadata": {
        "colab": {
          "base_uri": "https://localhost:8080/",
          "height": 145
        },
        "id": "SLbEvBkWUo8b",
        "outputId": "4b6c14e8-db97-40ba-f299-440f9bb546dd"
      },
      "execution_count": 65,
      "outputs": [
        {
          "output_type": "display_data",
          "data": {
            "text/html": [
              "<table class=\"dataframe\">\n",
              "<caption>A data.frame: 1 × 2</caption>\n",
              "<thead>\n",
              "\t<tr><th scope=col>hp</th><th scope=col>disp</th></tr>\n",
              "\t<tr><th scope=col>&lt;dbl&gt;</th><th scope=col>&lt;dbl&gt;</th></tr>\n",
              "</thead>\n",
              "<tbody>\n",
              "\t<tr><td>335</td><td>472</td></tr>\n",
              "</tbody>\n",
              "</table>\n"
            ],
            "text/markdown": "\nA data.frame: 1 × 2\n\n| hp &lt;dbl&gt; | disp &lt;dbl&gt; |\n|---|---|\n| 335 | 472 |\n\n",
            "text/latex": "A data.frame: 1 × 2\n\\begin{tabular}{ll}\n hp & disp\\\\\n <dbl> & <dbl>\\\\\n\\hline\n\t 335 & 472\\\\\n\\end{tabular}\n",
            "text/plain": [
              "  hp  disp\n",
              "1 335 472 "
            ]
          },
          "metadata": {}
        }
      ]
    }
  ]
}