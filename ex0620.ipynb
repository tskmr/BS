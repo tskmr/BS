{
  "nbformat": 4,
  "nbformat_minor": 0,
  "metadata": {
    "colab": {
      "provenance": [],
      "authorship_tag": "ABX9TyPzQ+ho0+rt4hiJbVF4VoXq",
      "include_colab_link": true
    },
    "kernelspec": {
      "name": "ir",
      "display_name": "R"
    },
    "language_info": {
      "name": "R"
    }
  },
  "cells": [
    {
      "cell_type": "markdown",
      "metadata": {
        "id": "view-in-github",
        "colab_type": "text"
      },
      "source": [
        "<a href=\"https://colab.research.google.com/github/tskmr/BS/blob/main/ex0620.ipynb\" target=\"_parent\"><img src=\"https://colab.research.google.com/assets/colab-badge.svg\" alt=\"Open In Colab\"/></a>"
      ]
    },
    {
      "cell_type": "code",
      "execution_count": null,
      "metadata": {
        "id": "Ma8WDXX-QhFU"
      },
      "outputs": [],
      "source": []
    },
    {
      "cell_type": "markdown",
      "source": [
        "**Note: There are often multiple ways to answer each question.**\n",
        "\n",
        "1. Download `nba_free_throws.csv` from https://github.com/kjytay/misc/tree/master/data. (Right click on `nba_free_throws.csv` and select \"Save Link As...\"). Import this dataset into R as the variable `df`. Are there columns which need their format changed?\n",
        " https://github.com/kjytay/misc/tree/master/data から `nba_free_throws.csv` をダウンロードせよ(`nba_free_throws.csv`を右クリックし、\"Save Link As... \"を選択). このデータセットを変数 `df`としてRにインポートせよ．フォーマットを変更する必要があるカラムはあるか？\n",
        "\n"
      ],
      "metadata": {
        "id": "57-TDUpPQnQQ"
      }
    },
    {
      "cell_type": "code",
      "source": [
        "library(tidyverse)\n",
        "df <- read_csv(\"https://raw.githubusercontent.com/kjytay/misc/master/data/nba_free_throws.csv\")\n",
        "# df\n",
        "str(df)"
      ],
      "metadata": {
        "colab": {
          "base_uri": "https://localhost:8080/"
        },
        "id": "3efVz5DRQl3V",
        "outputId": "b21058d3-e0d4-48fa-a405-dc07d9e35167"
      },
      "execution_count": 6,
      "outputs": [
        {
          "output_type": "stream",
          "name": "stderr",
          "text": [
            "\u001b[1mRows: \u001b[22m\u001b[34m618019\u001b[39m \u001b[1mColumns: \u001b[22m\u001b[34m11\u001b[39m\n",
            "\u001b[36m──\u001b[39m \u001b[1mColumn specification\u001b[22m \u001b[36m────────────────────────────────────────────────────────\u001b[39m\n",
            "\u001b[1mDelimiter:\u001b[22m \",\"\n",
            "\u001b[31mchr\u001b[39m  (7): end_result, game, play, player, playoffs, score, season\n",
            "\u001b[32mdbl\u001b[39m  (3): game_id, period, shot_made\n",
            "\u001b[34mtime\u001b[39m (1): time\n",
            "\n",
            "\u001b[36mℹ\u001b[39m Use `spec()` to retrieve the full column specification for this data.\n",
            "\u001b[36mℹ\u001b[39m Specify the column types or set `show_col_types = FALSE` to quiet this message.\n"
          ]
        },
        {
          "output_type": "stream",
          "name": "stdout",
          "text": [
            "spc_tbl_ [618,019 × 11] (S3: spec_tbl_df/tbl_df/tbl/data.frame)\n",
            " $ end_result: chr [1:618019] \"106 - 114\" \"106 - 114\" \"106 - 114\" \"106 - 114\" ...\n",
            " $ game      : chr [1:618019] \"PHX - LAL\" \"PHX - LAL\" \"PHX - LAL\" \"PHX - LAL\" ...\n",
            " $ game_id   : num [1:618019] 2.61e+08 2.61e+08 2.61e+08 2.61e+08 2.61e+08 ...\n",
            " $ period    : num [1:618019] 1 1 1 1 1 1 1 2 2 2 ...\n",
            " $ play      : chr [1:618019] \"Andrew Bynum makes free throw 1 of 2\" \"Andrew Bynum makes free throw 2 of 2\" \"Andrew Bynum makes free throw 1 of 2\" \"Andrew Bynum misses free throw 2 of 2\" ...\n",
            " $ player    : chr [1:618019] \"Andrew Bynum\" \"Andrew Bynum\" \"Andrew Bynum\" \"Andrew Bynum\" ...\n",
            " $ playoffs  : chr [1:618019] \"regular\" \"regular\" \"regular\" \"regular\" ...\n",
            " $ score     : chr [1:618019] \"0 - 1\" \"0 - 2\" \"18 - 12\" \"18 - 12\" ...\n",
            " $ season    : chr [1:618019] \"2006 - 2007\" \"2006 - 2007\" \"2006 - 2007\" \"2006 - 2007\" ...\n",
            " $ shot_made : num [1:618019] 1 1 1 0 1 1 1 0 1 1 ...\n",
            " $ time      : 'hms' num [1:618019] 11:45:00 11:45:00 07:26:00 07:26:00 ...\n",
            "  ..- attr(*, \"units\")= chr \"secs\"\n",
            " - attr(*, \"spec\")=\n",
            "  .. cols(\n",
            "  ..   end_result = \u001b[31mcol_character()\u001b[39m,\n",
            "  ..   game = \u001b[31mcol_character()\u001b[39m,\n",
            "  ..   game_id = \u001b[32mcol_double()\u001b[39m,\n",
            "  ..   period = \u001b[32mcol_double()\u001b[39m,\n",
            "  ..   play = \u001b[31mcol_character()\u001b[39m,\n",
            "  ..   player = \u001b[31mcol_character()\u001b[39m,\n",
            "  ..   playoffs = \u001b[31mcol_character()\u001b[39m,\n",
            "  ..   score = \u001b[31mcol_character()\u001b[39m,\n",
            "  ..   season = \u001b[31mcol_character()\u001b[39m,\n",
            "  ..   shot_made = \u001b[32mcol_double()\u001b[39m,\n",
            "  ..   time = \u001b[34mcol_time(format = \"\")\u001b[39m\n",
            "  .. )\n",
            " - attr(*, \"problems\")=<externalptr> \n"
          ]
        }
      ]
    },
    {
      "cell_type": "markdown",
      "source": [
        "`game_id`は`col_double()`になっているが，`col_character()`のほうが適切かもしれない．\n",
        "`time`は時間として変更すべき．\n",
        "ここでは，`game_id`と`time`を変更してみる．\n"
      ],
      "metadata": {
        "id": "n8gSu7TZS_Bl"
      }
    },
    {
      "cell_type": "code",
      "source": [
        "df <- read_csv(\"https://raw.githubusercontent.com/kjytay/misc/master/data/nba_free_throws.csv\",\n",
        "               col_types = cols(game_id = col_character()))\n",
        "str(df)\n"
      ],
      "metadata": {
        "colab": {
          "base_uri": "https://localhost:8080/"
        },
        "id": "_kqVgC5QTJg7",
        "outputId": "a70af1aa-a126-4250-979d-2c8d05cf709b"
      },
      "execution_count": 8,
      "outputs": [
        {
          "output_type": "stream",
          "name": "stdout",
          "text": [
            "spc_tbl_ [618,019 × 11] (S3: spec_tbl_df/tbl_df/tbl/data.frame)\n",
            " $ end_result: chr [1:618019] \"106 - 114\" \"106 - 114\" \"106 - 114\" \"106 - 114\" ...\n",
            " $ game      : chr [1:618019] \"PHX - LAL\" \"PHX - LAL\" \"PHX - LAL\" \"PHX - LAL\" ...\n",
            " $ game_id   : chr [1:618019] \"261031013.0\" \"261031013.0\" \"261031013.0\" \"261031013.0\" ...\n",
            " $ period    : num [1:618019] 1 1 1 1 1 1 1 2 2 2 ...\n",
            " $ play      : chr [1:618019] \"Andrew Bynum makes free throw 1 of 2\" \"Andrew Bynum makes free throw 2 of 2\" \"Andrew Bynum makes free throw 1 of 2\" \"Andrew Bynum misses free throw 2 of 2\" ...\n",
            " $ player    : chr [1:618019] \"Andrew Bynum\" \"Andrew Bynum\" \"Andrew Bynum\" \"Andrew Bynum\" ...\n",
            " $ playoffs  : chr [1:618019] \"regular\" \"regular\" \"regular\" \"regular\" ...\n",
            " $ score     : chr [1:618019] \"0 - 1\" \"0 - 2\" \"18 - 12\" \"18 - 12\" ...\n",
            " $ season    : chr [1:618019] \"2006 - 2007\" \"2006 - 2007\" \"2006 - 2007\" \"2006 - 2007\" ...\n",
            " $ shot_made : num [1:618019] 1 1 1 0 1 1 1 0 1 1 ...\n",
            " $ time      : 'hms' num [1:618019] 11:45:00 11:45:00 07:26:00 07:26:00 ...\n",
            "  ..- attr(*, \"units\")= chr \"secs\"\n",
            " - attr(*, \"spec\")=\n",
            "  .. cols(\n",
            "  ..   end_result = \u001b[31mcol_character()\u001b[39m,\n",
            "  ..   game = \u001b[31mcol_character()\u001b[39m,\n",
            "  ..   game_id = \u001b[31mcol_character()\u001b[39m,\n",
            "  ..   period = \u001b[32mcol_double()\u001b[39m,\n",
            "  ..   play = \u001b[31mcol_character()\u001b[39m,\n",
            "  ..   player = \u001b[31mcol_character()\u001b[39m,\n",
            "  ..   playoffs = \u001b[31mcol_character()\u001b[39m,\n",
            "  ..   score = \u001b[31mcol_character()\u001b[39m,\n",
            "  ..   season = \u001b[31mcol_character()\u001b[39m,\n",
            "  ..   shot_made = \u001b[32mcol_double()\u001b[39m,\n",
            "  ..   time = \u001b[34mcol_time(format = \"\")\u001b[39m\n",
            "  .. )\n",
            " - attr(*, \"problems\")=<externalptr> \n"
          ]
        }
      ]
    },
    {
      "cell_type": "markdown",
      "source": [
        "2. Select just the rows from the 2015-2016 regular season, remove the column `play` and save the result in `df2`.\n",
        "2015-2016年のレギュラーシーズンの行だけを選択し、列 `play` を削除して、結果を `df2` に保存せよ．\n"
      ],
      "metadata": {
        "id": "1RzivGvBVFKz"
      }
    },
    {
      "cell_type": "code",
      "source": [
        "df %>% filter(season == \"2015 - 2016\" & playoffs == \"regular\") %>% select(-play) -> df2\n",
        "df2"
      ],
      "metadata": {
        "id": "x5M_h_53VGs-"
      },
      "execution_count": null,
      "outputs": []
    },
    {
      "cell_type": "markdown",
      "source": [
        "All questions from here are about `df2`.  ここからの質問はすべて`df2`に関するものとする．\n",
        "\n",
        "3. Display the top 10 players who took the most free throws.\n",
        "最も多くフリースローを取った選手上位10名を表示せよ．\n"
      ],
      "metadata": {
        "id": "nHp4hHVtVize"
      }
    },
    {
      "cell_type": "code",
      "source": [
        "df2 %>% group_by(player) %>% summarise(count = n()) %>%\n",
        "  arrange(desc(count)) %>% head(10)"
      ],
      "metadata": {
        "id": "bG-fPLBJVk4A"
      },
      "execution_count": null,
      "outputs": []
    },
    {
      "cell_type": "markdown",
      "source": [
        "4. Free throw percentage is defined as the percentage of shots taken which were made. Display the top 10 players with the highest free throw percentages. (Hint: modify Qn 3 code to take two summaries.)\n",
        "フリースロー率とは、打たれたシュートのうち、決められたシュートの割合のことである．フリースロー率の高い選手上位10名を表示せよ(ヒント：Qn 3のコードを修正して、2つのサマリーを取る)．\n"
      ],
      "metadata": {
        "id": "s_PysRJDWDod"
      }
    },
    {
      "cell_type": "code",
      "source": [
        "df2 %>% group_by(player) %>% summarise(count = n(), success = sum(shot_made)) %>%\n",
        "  mutate(rate = success/count) %>%\n",
        "  arrange(desc(rate)) %>%\n",
        "  head(10)\n"
      ],
      "metadata": {
        "id": "Qr6VoNXGWMuM"
      },
      "execution_count": null,
      "outputs": []
    },
    {
      "cell_type": "markdown",
      "source": [
        "5. The highest free throw percentages are so high because these players didn't take many shots. Display the top 10 players with the highest free throw percentages **among only the players who took at least 100 free throws**. (Hint: Filter Qn 4 code at an appropriate step.) 最も高いフリースロー率は、これらの選手があまりシュートを打たなかったから高い．**少なくとも100本のフリースローを行った選手の中で**、フリースロー率が最も高い選手上位10人を表示せよ(ヒント：Qn 4のコードを適切なステップでフィルタリングする。)"
      ],
      "metadata": {
        "id": "vPBc7cZuWu-M"
      }
    },
    {
      "cell_type": "code",
      "source": [
        "df2 %>% group_by(player) %>%\n",
        "  summarise(count = n(), success = sum(shot_made)) %>%\n",
        "  filter(count>=100) %>%\n",
        "  mutate(rate = success/count) %>%\n",
        "  arrange(desc(rate)) %>%\n",
        "  head(10)\n"
      ],
      "metadata": {
        "colab": {
          "base_uri": "https://localhost:8080/",
          "height": 407
        },
        "id": "aKSNwjJMWzM8",
        "outputId": "937dbac9-4d05-4371-ecd9-77e21cea7fe6"
      },
      "execution_count": 12,
      "outputs": [
        {
          "output_type": "display_data",
          "data": {
            "text/html": [
              "<table class=\"dataframe\">\n",
              "<caption>A tibble: 10 × 4</caption>\n",
              "<thead>\n",
              "\t<tr><th scope=col>player</th><th scope=col>count</th><th scope=col>success</th><th scope=col>rate</th></tr>\n",
              "\t<tr><th scope=col>&lt;chr&gt;</th><th scope=col>&lt;int&gt;</th><th scope=col>&lt;dbl&gt;</th><th scope=col>&lt;dbl&gt;</th></tr>\n",
              "</thead>\n",
              "<tbody>\n",
              "\t<tr><td>Stephen Curry </td><td>400</td><td>363</td><td>0.9075000</td></tr>\n",
              "\t<tr><td>Jamal Crawford</td><td>271</td><td>245</td><td>0.9040590</td></tr>\n",
              "\t<tr><td>Kevin Durant  </td><td>498</td><td>447</td><td>0.8975904</td></tr>\n",
              "\t<tr><td>Chris Paul    </td><td>328</td><td>294</td><td>0.8963415</td></tr>\n",
              "\t<tr><td>Dirk Nowitzki </td><td>280</td><td>250</td><td>0.8928571</td></tr>\n",
              "\t<tr><td>Jarrett Jack  </td><td>112</td><td>100</td><td>0.8928571</td></tr>\n",
              "\t<tr><td>Damian Lillard</td><td>464</td><td>414</td><td>0.8922414</td></tr>\n",
              "\t<tr><td>Kevin Martin  </td><td>172</td><td>153</td><td>0.8895349</td></tr>\n",
              "\t<tr><td>Kyrie Irving  </td><td>188</td><td>167</td><td>0.8882979</td></tr>\n",
              "\t<tr><td>Eric Gordon   </td><td>125</td><td>111</td><td>0.8880000</td></tr>\n",
              "</tbody>\n",
              "</table>\n"
            ],
            "text/markdown": "\nA tibble: 10 × 4\n\n| player &lt;chr&gt; | count &lt;int&gt; | success &lt;dbl&gt; | rate &lt;dbl&gt; |\n|---|---|---|---|\n| Stephen Curry  | 400 | 363 | 0.9075000 |\n| Jamal Crawford | 271 | 245 | 0.9040590 |\n| Kevin Durant   | 498 | 447 | 0.8975904 |\n| Chris Paul     | 328 | 294 | 0.8963415 |\n| Dirk Nowitzki  | 280 | 250 | 0.8928571 |\n| Jarrett Jack   | 112 | 100 | 0.8928571 |\n| Damian Lillard | 464 | 414 | 0.8922414 |\n| Kevin Martin   | 172 | 153 | 0.8895349 |\n| Kyrie Irving   | 188 | 167 | 0.8882979 |\n| Eric Gordon    | 125 | 111 | 0.8880000 |\n\n",
            "text/latex": "A tibble: 10 × 4\n\\begin{tabular}{llll}\n player & count & success & rate\\\\\n <chr> & <int> & <dbl> & <dbl>\\\\\n\\hline\n\t Stephen Curry  & 400 & 363 & 0.9075000\\\\\n\t Jamal Crawford & 271 & 245 & 0.9040590\\\\\n\t Kevin Durant   & 498 & 447 & 0.8975904\\\\\n\t Chris Paul     & 328 & 294 & 0.8963415\\\\\n\t Dirk Nowitzki  & 280 & 250 & 0.8928571\\\\\n\t Jarrett Jack   & 112 & 100 & 0.8928571\\\\\n\t Damian Lillard & 464 & 414 & 0.8922414\\\\\n\t Kevin Martin   & 172 & 153 & 0.8895349\\\\\n\t Kyrie Irving   & 188 & 167 & 0.8882979\\\\\n\t Eric Gordon    & 125 & 111 & 0.8880000\\\\\n\\end{tabular}\n",
            "text/plain": [
              "   player         count success rate     \n",
              "1  Stephen Curry  400   363     0.9075000\n",
              "2  Jamal Crawford 271   245     0.9040590\n",
              "3  Kevin Durant   498   447     0.8975904\n",
              "4  Chris Paul     328   294     0.8963415\n",
              "5  Dirk Nowitzki  280   250     0.8928571\n",
              "6  Jarrett Jack   112   100     0.8928571\n",
              "7  Damian Lillard 464   414     0.8922414\n",
              "8  Kevin Martin   172   153     0.8895349\n",
              "9  Kyrie Irving   188   167     0.8882979\n",
              "10 Eric Gordon    125   111     0.8880000"
            ]
          },
          "metadata": {}
        }
      ]
    },
    {
      "cell_type": "code",
      "source": [
        "\n",
        "\n",
        "\n",
        "```{r}\n",
        "```\n",
        "\n",
        "6. Save the summary table of shots taken, shots made and free throw percentage by player in `summary_df` (only players who took at least 100 free throws). Using `summary_df`, make a scatterplot of free throw percentage vs. free throws taken. Set the `alpha` value of the points to `0.5`, and draw a blue dashed horizontal line to show the mean free throw percentage across these players. (Hint: For the horizontal line, use `geom_abline`.)\n",
        "選手ごとの打ったシュート数、決めたシュート数、フリースロー率のサマリー表を `summary_df` に保存せよ（少なくとも100本のフリースローを行った選手のみ）．`summary_df`を使用して、フリースロー率対フリースロー回数の散布図を作成せよ．散布点の `alpha` 値を `0.5`に設定し、さらに，これらの選手におけるフリースロー率の平均を示す青い破線の水平線を引け(ヒント: 水平線には `geom_abline` を使用する)．\n",
        "\n",
        "```{r}\n",
        "df2 %>% group_by(player) %>% summarise(shots.taken = n(), shots.made = sum(shot_made)) %>%   mutate(free.throw.percentage = shots.made/shots.taken) %>%\n",
        "  filter(shots.taken>=100) -> summary_df\n",
        "summary_df %>%\n",
        "  ggplot(aes(shots.taken, free.throw.percentage)) +\n",
        "  geom_point(alpha=0.5) +\n",
        "  geom_abline(slope=0, intercept = mean(summary_df$free.throw.percentage), col=\"blue\", linetype=\"dashed\")\n",
        "```\n",
        "\n",
        "7. Which game (in `df2`) had the most number of free throws? Save the rows in `df2` from that game in `df3`.\n",
        "(`df2`において)どの試合が一番フリースローの数が多かったか？その試合の `df2` の行を `df3` に保存せよ．\n",
        "\n",
        "```{r}\n",
        "df2 %>% group_by(game_id) %>% summarise(shots.taken = n()) %>% arrange(desc(shots.taken)) %>% head(1) %>% pull(game_id) -> max.id\n",
        "df2 %>% filter(game_id == max.id) -> df3\n",
        "```\n",
        "\n",
        "8. Make a bar plot showing the number of free throws each player took in this game. Add `coord_flip()` as a layer to the plot so that the bars are horizontal. (Bonus: Can you sort the bars such that the longest ones go on top? The `forcats` package will be helpful, as will the last example of Section 15.4 of R4DS.)\n",
        "このゲームで各プレイヤーが行ったフリースローの数を示す棒グラフを作成せよ．棒グラフが水平になるように、プロットにレイヤーとして `coord_flip()` を追加せよ(ボーナス: 最も長い棒が上に来るように棒を並べ替えることができるか? `forcats` パッケージが役に立つだろうし、R4DSのセクション15.4の最後の例も同じく役に立つ)．\n",
        "\n",
        "```{r}\n",
        "df3 %>% ggplot(aes(x=player)) + geom_bar() +coord_flip()\n",
        "```\n",
        "\n",
        "```{r}\n",
        "df3 %>% group_by(player) %>% summarise(shots.taken = n()) %>% arrange(shots.taken) %>% pull(player) -> p1\n",
        "df3 %>% mutate(player = factor(player, levels=p1)) %>%\n",
        "  ggplot(aes(x=player)) + geom_bar() +coord_flip()\n",
        "```\n",
        "\n",
        "The following code joins data from `summary_df` to `df3` and saves it as df4:\n",
        "次のコードは、`summary_df`から`df3`までのデータを結合して、`df4`として保存する：\n",
        "```{r eval=FALSE}\n",
        "df4 <- df3 %>% left_join(summary_df, by = \"player\")\n",
        "```\n",
        "\n",
        "\n",
        "9. Modify your bar plot in Qn 8 so that the fill of the bars is equal to the player's free throw percentage. Add the layer `scale_fill_distiller(palette = \"RdYlGn\", direction = 1)` to give your bars some appropriate colors. Why are some bars grey?\n",
        "棒グラフの fill が選手のフリースロー率と同じになるように、Qn 8 の棒グラフを修正せよ．レイヤー `scale_fill_distiller(palette = \"RdYlGn\", direction = 1)`を追加して、棒に適切な色をつけよ．なぜいくつかの灰色のバーがあるのだろうか？\n",
        "\n",
        "\n",
        "\n",
        "10. Using `tidyr`'s `separate` function, separate the `game` column in `df2` to a `home` column which has the name of the home team, and an `away` column which has the name of the away team. (See Section 12.4 of R4DS for details on the `separate` function.)\n",
        "`tidyr`の `separate` 関数を使用して、`df2` の `game` 列をホームチームの名前を持つ `home` 列とアウェイチームの名前を持つ `away` 列に分離せよ (`separate`関数の詳細については、R4DSのセクション12.4を参照せよ)．\n",
        "\n"
      ],
      "metadata": {
        "colab": {
          "base_uri": "https://localhost:8080/",
          "height": 96
        },
        "id": "zMni6FArQrCx",
        "outputId": "4d021089-145f-44c5-e05d-9fc5f07e6148"
      },
      "execution_count": 4,
      "outputs": [
        {
          "output_type": "error",
          "ename": "ERROR",
          "evalue": "ignored",
          "traceback": [
            "Error in parse(text = x, srcfile = src): attempt to use zero-length variable name\nTraceback:\n"
          ]
        }
      ]
    }
  ]
}